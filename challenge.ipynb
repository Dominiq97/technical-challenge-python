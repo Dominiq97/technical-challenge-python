{
 "cells": [
  {
   "cell_type": "markdown",
   "id": "69f51837-a07d-46f2-95e9-4341d9c7e070",
   "metadata": {
    "jp-MarkdownHeadingCollapsed": true,
    "tags": []
   },
   "source": [
    "# Python Technical Challenge\n",
    "\n",
    "## _Searching an algorithm that sorts words from left to right line by line_\n",
    "\n",
    "c: Dominic Catana <catanadominic@gmail.com>"
   ]
  },
  {
   "cell_type": "code",
   "execution_count": null,
   "id": "a8c21ab6-40a1-4431-b954-dc2fbd19c743",
   "metadata": {},
   "outputs": [],
   "source": [
    "import json\n",
    "import numpy as np\n",
    "import cv2\n",
    "import matplotlib.pyplot as plt\n",
    "import matplotlib.image as mpimg\n",
    "\n",
    "\n",
    "def sort_the_rects(ocr_dataset):\n",
    "    list_of_coords = []\n",
    "    for it in ocr_dataset:\n",
    "        for y in it['points']:\n",
    "            list_of_coords.append(y)\n",
    "    return list_of_coords"
   ]
  },
  {
   "cell_type": "code",
   "execution_count": 67,
   "id": "31465427-9885-400a-bbbb-18d4410821ea",
   "metadata": {},
   "outputs": [
    {
     "data": {
      "image/png": "[encoded data removed]",
      "text/plain": [
       "<Figure size 432x288 with 1 Axes>"
      ]
     },
     "metadata": {
      "needs_background": "light"
     },
     "output_type": "display_data"
    }
   ],
   "source": [
    "\n",
    "\n",
    "\n",
    "f = open('datasets/menu2.json',)\n",
    "data = json.load(f)['ocr'];\n",
    "#print(data);\n",
    "\n",
    "img = cv2.imread('datasets/menu2.jpg')  # read RGB image \n",
    "\n",
    "rectangles = sort_the_rects(data)\n",
    "\n",
    "start_point = (0, 0)\n",
    "end_point = (0, 0)\n",
    "j = 0\n",
    "for i in rectangles:\n",
    "   # print(i)\n",
    "    if (j % 2 == 1) and (start_point == (0,0)):\n",
    "        start_point = (int(i[0]),int(i[1]))\n",
    "        j=j+1\n",
    "    elif (j % 2 == 1) and (end_point == (0,0)): \n",
    "        end_point=(int(i[0]),int(i[1]))\n",
    "        j=j+1\n",
    "    else:\n",
    "        j=j+1\n",
    "        continue;\n",
    "    \n",
    "    if (start_point!=(0, 0) and (end_point!=(0, 0))):\n",
    "        image = cv2.rectangle(img, start_point, end_point, (255, 0, 0), 1)\n",
    "        start_point = (0,0)\n",
    "        end_point = (0,0)\n",
    "        \n",
    "data = np.array([\n",
    "    list_of_coords\n",
    "])\n",
    "x, y = data.T\n",
    "\n",
    "plt.scatter(x,y)\n",
    "plt.show()\n",
    "\n",
    "\n",
    "\n",
    "cv2.imshow('image', img)  #show the image\n",
    "cv2.waitKey(0)  # Maintain output window untill user presses a key        \n",
    "cv2.destroyAllWindows()\n",
    "\n",
    "\n",
    "\n",
    "\n",
    "\n",
    "\n",
    "\n",
    "\n",
    "\n"
   ]
  },
  {
   "cell_type": "code",
   "execution_count": null,
   "id": "61463461-7009-4d46-a0de-3b23d1f4b9d5",
   "metadata": {},
   "outputs": [],
   "source": []
  },
  {
   "cell_type": "code",
   "execution_count": null,
   "id": "4acdbf39-ed52-4032-aec2-1a0d9e346077",
   "metadata": {},
   "outputs": [],
   "source": []
  },
  {
   "cell_type": "code",
   "execution_count": null,
   "id": "cdd8d801-d951-4b0f-84fb-4d2db1c8e93c",
   "metadata": {},
   "outputs": [],
   "source": []
  }
 ],
 "metadata": {
  "kernelspec": {
   "display_name": "Python 3 (ipykernel)",
   "language": "python",
   "name": "python3"
  },
  "language_info": {
   "codemirror_mode": {
    "name": "ipython",
    "version": 3
   },
   "file_extension": ".py",
   "mimetype": "text/x-python",
   "name": "python",
   "nbconvert_exporter": "python",
   "pygments_lexer": "ipython3",
   "version": "3.9.2"
  }
 },
 "nbformat": 4,
 "nbformat_minor": 5
}
