{
 "cells": [
  {
   "cell_type": "markdown",
   "id": "69f51837-a07d-46f2-95e9-4341d9c7e070",
   "metadata": {},
   "source": [
    "# Python Technical Challenge\n",
    "\n",
    "## _Searching an algorithm that sorts words from left to right line by line_\n",
    "\n",
    "c: Dominic Catana <catanadominic@gmail.com>"
   ]
  },
  {
   "cell_type": "code",
   "execution_count": null,
   "id": "31465427-9885-400a-bbbb-18d4410821ea",
   "metadata": {},
   "outputs": [],
   "source": []
  }
 ],
 "metadata": {
  "kernelspec": {
   "display_name": "Python 3.8.2 64-bit",
   "language": "python",
   "name": "python38264bitd7e531b4d3c643d0ae78a66ddbbe8e54"
  },
  "language_info": {
   "codemirror_mode": {
    "name": "ipython",
    "version": 3
   },
   "file_extension": ".py",
   "mimetype": "text/x-python",
   "name": "python",
   "nbconvert_exporter": "python",
   "pygments_lexer": "ipython3",
   "version": "3.8.2"
  }
 },
 "nbformat": 4,
 "nbformat_minor": 5
}
