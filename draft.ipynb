{
 "cells": [
  {
   "cell_type": "code",
   "execution_count": null,
   "id": "7e050bc3-04fb-45bf-8225-afe28076c1af",
   "metadata": {},
   "outputs": [],
   "source": [
    "# for i in points:\n",
    "#    # print(i)\n",
    "#     if (j % 2 == 1) and (start_point == (0,0)):\n",
    "#         start_point = (int(i[0]),int(i[1]))\n",
    "#         j=j+1\n",
    "#     elif (j % 2 == 1) and (end_point == (0,0)): \n",
    "#         end_point=(int(i[0]),int(i[1]))\n",
    "#         j=j+1\n",
    "#     else:\n",
    "#         j=j+1\n",
    "#         continue;\n",
    "    \n",
    "#     if (start_point!=(0, 0) and (end_point!=(0, 0))):\n",
    "#         image = cv2.rectangle(img, start_point, end_point, (255, 0, 0), 1)\n",
    "#         start_point = (0,0)\n",
    "#         end_point = (0,0)\n",
    "        \n",
    "# data = np.array([\n",
    "#     points\n",
    "# ])\n",
    "# x, y = data.T\n",
    "# for i in listing:\n",
    "#     (i, boundingBoxes) = sort_contours(i)\n",
    "# plt.scatter(x,y)\n",
    "# plt.show()"
   ]
  }
 ],
 "metadata": {
  "kernelspec": {
   "display_name": "Python 3 (ipykernel)",
   "language": "python",
   "name": "python3"
  },
  "language_info": {
   "codemirror_mode": {
    "name": "ipython",
    "version": 3
   },
   "file_extension": ".py",
   "mimetype": "text/x-python",
   "name": "python",
   "nbconvert_exporter": "python",
   "pygments_lexer": "ipython3",
   "version": "3.9.2"
  }
 },
 "nbformat": 4,
 "nbformat_minor": 5
}
